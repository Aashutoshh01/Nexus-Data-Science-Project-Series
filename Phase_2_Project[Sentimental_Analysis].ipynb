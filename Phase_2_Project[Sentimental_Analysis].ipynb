{
  "nbformat": 4,
  "nbformat_minor": 0,
  "metadata": {
    "colab": {
      "provenance": []
    },
    "kernelspec": {
      "name": "python3",
      "display_name": "Python 3"
    },
    "language_info": {
      "name": "python"
    }
  },
  "cells": [
    {
      "cell_type": "code",
      "source": [
        "import pandas as pd\n",
        "import numpy as np\n",
        "from sklearn.model_selection import train_test_split\n",
        "from sklearn.feature_extraction.text import TfidfVectorizer\n",
        "from sklearn.naive_bayes import MultinomialNB\n",
        "from sklearn.metrics import accuracy_score, precision_score, recall_score, f1_score\n",
        "from sklearn.preprocessing import LabelEncoder\n",
        "from sklearn.svm import SVC\n",
        "from sklearn.ensemble import RandomForestClassifier\n",
        "from sklearn.linear_model import LogisticRegression\n",
        "from sklearn.model_selection import GridSearchCV\n",
        "from sklearn.pipeline import Pipeline\n",
        "from sklearn.inspection import permutation_importance\n",
        "from sklearn.metrics import confusion_matrix, classification_report\n",
        "import matplotlib.pyplot as plt\n",
        "from wordcloud import WordCloud\n",
        "from nltk.corpus import stopwords\n",
        "from nltk.stem import WordNetLemmatizer\n",
        "from nltk.tokenize import word_tokenize"
      ],
      "metadata": {
        "id": "NPoaxRXwMOUM"
      },
      "execution_count": null,
      "outputs": []
    },
    {
      "cell_type": "markdown",
      "source": [
        "Load the dataset"
      ],
      "metadata": {
        "id": "kD58Z-ojNUR8"
      }
    },
    {
      "cell_type": "code",
      "source": [
        "data = pd.read_csv('train.csv')"
      ],
      "metadata": {
        "id": "JkmubLCkMtbA"
      },
      "execution_count": null,
      "outputs": []
    },
    {
      "cell_type": "markdown",
      "source": [
        "Data exploration"
      ],
      "metadata": {
        "id": "d6oGR3YwNVaE"
      }
    },
    {
      "cell_type": "code",
      "source": [
        "print(data.head())\n",
        "print(data.info())"
      ],
      "metadata": {
        "id": "wXVUwkmtMteo"
      },
      "execution_count": null,
      "outputs": []
    },
    {
      "cell_type": "markdown",
      "source": [
        "Text preprocessing"
      ],
      "metadata": {
        "id": "SqcQzwLjNWIv"
      }
    },
    {
      "cell_type": "code",
      "source": [
        "stop_words = set(stopwords.words('english'))\n",
        "lemmatizer = WordNetLemmatizer()\n",
        "\n",
        "def preprocess_text(text):\n",
        "    words = word_tokenize(text.lower())\n",
        "    words = [lemmatizer.lemmatize(word) for word in words if word not in stop_words]\n",
        "    return ' '.join(words)\n",
        "\n",
        "data['Text'] = data['Text'].apply(preprocess_text)"
      ],
      "metadata": {
        "id": "TTFXmmJEMtg9"
      },
      "execution_count": null,
      "outputs": []
    },
    {
      "cell_type": "markdown",
      "source": [
        "Exploratory Data Analysis"
      ],
      "metadata": {
        "id": "BG0UHhUVNW4e"
      }
    },
    {
      "cell_type": "code",
      "source": [
        "print(data['Sentiment'].value_counts())"
      ],
      "metadata": {
        "id": "1F3nR0cgMtj4"
      },
      "execution_count": null,
      "outputs": []
    },
    {
      "cell_type": "markdown",
      "source": [
        "Visualize the distribution of sentiment labels"
      ],
      "metadata": {
        "id": "gi_HUPoMNXy2"
      }
    },
    {
      "cell_type": "code",
      "source": [
        "plt.figure(figsize=(10, 5))\n",
        "data['Sentiment'].value_counts().plot(kind='bar')\n",
        "plt.title('Distribution of Sentiment Labels')\n",
        "plt.xlabel('Sentiment')\n",
        "plt.ylabel('Count')\n",
        "plt.show()"
      ],
      "metadata": {
        "id": "MocieokIMtnQ"
      },
      "execution_count": null,
      "outputs": []
    },
    {
      "cell_type": "markdown",
      "source": [
        "Word cloud visualization"
      ],
      "metadata": {
        "id": "02oaD5VmNYXB"
      }
    },
    {
      "cell_type": "code",
      "source": [
        "wordcloud = WordCloud(width=800, height=500, background_color='white', max_words=200, colormap='tab20').generate_from_frequencies(data['Text'].str.split().explode().value_counts())\n",
        "plt.figure(figsize=(10, 5))\n",
        "plt.imshow(wordcloud, interpolation='bilinear')\n",
        "plt.axis('off')\n",
        "plt.show()"
      ],
      "metadata": {
        "id": "sOpRmygCMtqh"
      },
      "execution_count": null,
      "outputs": []
    },
    {
      "cell_type": "markdown",
      "source": [
        "Text vectorization"
      ],
      "metadata": {
        "id": "3wTr1ffoNZAu"
      }
    },
    {
      "cell_type": "code",
      "source": [
        "vectorizer = TfidfVectorizer()\n",
        "X = vectorizer.fit_transform(data['Text'])"
      ],
      "metadata": {
        "id": "zS9mPsl9Mttf"
      },
      "execution_count": null,
      "outputs": []
    },
    {
      "cell_type": "markdown",
      "source": [
        "Label encoding"
      ],
      "metadata": {
        "id": "VHRsrKDpNZrL"
      }
    },
    {
      "cell_type": "code",
      "source": [
        "encoder = LabelEncoder()\n",
        "y = encoder.fit_transform(data['Sentiment'])"
      ],
      "metadata": {
        "id": "DTO0ZfgnMtwg"
      },
      "execution_count": null,
      "outputs": []
    },
    {
      "cell_type": "markdown",
      "source": [
        "Model selection"
      ],
      "metadata": {
        "id": "u72_2QFuNaVO"
      }
    },
    {
      "cell_type": "code",
      "source": [
        "models = {\n",
        "    'Naive Bayes': MultinomialNB(),\n",
        "    'SVM': SVC(probability=True),\n",
        "    'Random Forest': RandomForestClassifier(),\n",
        "    'Logistic Regression': LogisticRegression()\n",
        "}"
      ],
      "metadata": {
        "id": "xjnOIHZGMty6"
      },
      "execution_count": null,
      "outputs": []
    },
    {
      "cell_type": "markdown",
      "source": [
        "Model evaluation"
      ],
      "metadata": {
        "id": "EYXCgQC3Na7D"
      }
    },
    {
      "cell_type": "code",
      "source": [
        "for name, model in models.items():\n",
        "    X_train, X_test, y_train, y_test = train_test_split(X, y, test_size=0.2, random_state=42)\n",
        "    model.fit(X_train, y_train)\n",
        "    y_pred = model.predict(X_test)\n",
        "    print(f'{name} Performance:')\n",
        "    print(f'Accuracy: {accuracy_score(y_test, y_pred)}')\n",
        "    print(f'Precision: {precision_score(y_test, y_pred, average=\"weighted\")}')\n",
        "    print(f'Recall: {recall_score(y_test, y_pred, average=\"weighted\")}')\n",
        "    print(f'F1 Score: {f1_score(y_test, y_pred, average=\"weighted\")}')\n",
        "    print('Confusion Matrix:')\n",
        "    print(confusion_matrix(y_test, y_pred))\n",
        "    print('Classification Report:')\n",
        "    print(classification_report(y_test, y_pred))"
      ],
      "metadata": {
        "id": "G9EVk6pNMt2Z"
      },
      "execution_count": null,
      "outputs": []
    }
  ]
}